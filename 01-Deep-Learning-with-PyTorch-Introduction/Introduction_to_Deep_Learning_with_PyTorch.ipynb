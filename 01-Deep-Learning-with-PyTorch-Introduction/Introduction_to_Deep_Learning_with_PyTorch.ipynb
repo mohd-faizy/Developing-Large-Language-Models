{
  "nbformat": 4,
  "nbformat_minor": 0,
  "metadata": {
    "colab": {
      "provenance": [],
      "toc_visible": true
    },
    "kernelspec": {
      "name": "python3",
      "display_name": "Python 3"
    },
    "language_info": {
      "name": "python"
    }
  },
  "cells": [
    {
      "cell_type": "markdown",
      "source": [
        "\n",
        "# **01-Introduction-to-Deep-Learning-with-PyTorch**\n"
      ],
      "metadata": {
        "id": "FvUPdwFD5WF8"
      }
    },
    {
      "cell_type": "code",
      "source": [
        "# !git clone <path>"
      ],
      "metadata": {
        "id": "l0c3u7izxW4D"
      },
      "execution_count": null,
      "outputs": []
    },
    {
      "cell_type": "code",
      "source": [
        "# import pandas as pd\n",
        "# import numpy as np\n",
        "# import matplotlib.pyplot as plt\n",
        "# import seaborn as sns\n",
        "# import os\n",
        "\n",
        "# # plt.style.use('ggplot')\n",
        "# # sns.set_theme(style='whitegrid')\n",
        "# %matplotlib inline\n"
      ],
      "metadata": {
        "id": "6ApIwzvaiFJy"
      },
      "execution_count": null,
      "outputs": []
    },
    {
      "cell_type": "code",
      "source": [
        "# os.chdir('path to the dataset')\n",
        "# cwd = os.getcwd()\n",
        "# print('Curent working directory is ', cwd)"
      ],
      "metadata": {
        "id": "B825sPquzlSS"
      },
      "execution_count": null,
      "outputs": []
    },
    {
      "cell_type": "code",
      "source": [
        "# ls"
      ],
      "metadata": {
        "id": "PO3fWwRlzmQ8"
      },
      "execution_count": null,
      "outputs": []
    },
    {
      "cell_type": "markdown",
      "source": [
        "## **1️⃣Introduction to PyTorch, a Deep Learning Library**"
      ],
      "metadata": {
        "id": "S2qBGIWZwLyj"
      }
    },
    {
      "cell_type": "markdown",
      "source": [
        "**Tensors: the building blocks of networks in PyTorch**"
      ],
      "metadata": {
        "id": "qooIZ8Ms3gvj"
      }
    },
    {
      "cell_type": "code",
      "source": [
        "# Load from list\n",
        "import torch\n",
        "\n",
        "lst = [[1, 2, 3], [4, 5, 6]]\n",
        "tensor = torch.tensor(lst)\n",
        "\n",
        "print(tensor)\n",
        "print(type(tensor))"
      ],
      "metadata": {
        "colab": {
          "base_uri": "https://localhost:8080/"
        },
        "id": "_a0xQeZltI1u",
        "outputId": "a1b71284-a423-4336-9d5f-0ecf87481019"
      },
      "execution_count": null,
      "outputs": [
        {
          "output_type": "stream",
          "name": "stdout",
          "text": [
            "tensor([[1, 2, 3],\n",
            "        [4, 5, 6]])\n",
            "<class 'torch.Tensor'>\n"
          ]
        }
      ]
    },
    {
      "cell_type": "code",
      "source": [
        "# Load from NumPy array\n",
        "import numpy as np\n",
        "\n",
        "array = [[1, 2, 3], [4, 5, 6]]\n",
        "np_array = np.array(array)\n",
        "print(np_array)\n",
        "\n",
        "print(\"\\n\")\n",
        "\n",
        "np_tensor = torch.tensor(np_array)\n",
        "print(np_tensor)"
      ],
      "metadata": {
        "colab": {
          "base_uri": "https://localhost:8080/"
        },
        "id": "m0io9Fsn1pZz",
        "outputId": "5076f71d-7974-4116-e346-182946d03374"
      },
      "execution_count": null,
      "outputs": [
        {
          "output_type": "stream",
          "name": "stdout",
          "text": [
            "[[1 2 3]\n",
            " [4 5 6]]\n",
            "\n",
            "\n",
            "tensor([[1, 2, 3],\n",
            "        [4, 5, 6]])\n"
          ]
        }
      ]
    },
    {
      "cell_type": "code",
      "source": [
        "# Tensor attributes\n",
        "import torch\n",
        "\n",
        "lst = [[1, 2, 3], [4, 5, 6]]\n",
        "tensor = torch.tensor(lst)\n",
        "\n",
        "print(tensor.shape)\n",
        "print(tensor.dtype)\n",
        "print(tensor.device)"
      ],
      "metadata": {
        "colab": {
          "base_uri": "https://localhost:8080/"
        },
        "id": "0vJMnriP4A-I",
        "outputId": "bfdbc61c-616c-492c-a991-94271ff5b9d4"
      },
      "execution_count": null,
      "outputs": [
        {
          "output_type": "stream",
          "name": "stdout",
          "text": [
            "torch.Size([2, 3])\n",
            "torch.int64\n",
            "cpu\n"
          ]
        }
      ]
    },
    {
      "cell_type": "markdown",
      "source": [
        "> PyTorch doesn't guarantee the exact data type by default. It might allocate a different data type based on the hardware and software configuration. To ensure `32-bit` floats, you can explicitly specify it during creation:"
      ],
      "metadata": {
        "id": "knwSL_mJ460D"
      }
    },
    {
      "cell_type": "code",
      "source": [
        "import torch\n",
        "\n",
        "lst_32 = [[1, 2, 3], [4, 5, 6]]\n",
        "tensor = torch.tensor(lst_32, dtype=torch.float32)\n",
        "\n",
        "print(tensor.dtype)"
      ],
      "metadata": {
        "colab": {
          "base_uri": "https://localhost:8080/"
        },
        "id": "xn3g53pe4A7k",
        "outputId": "05c2ca88-66cc-410f-aaf7-2dcbc62d575b"
      },
      "execution_count": null,
      "outputs": [
        {
          "output_type": "stream",
          "name": "stdout",
          "text": [
            "torch.float32\n"
          ]
        }
      ]
    },
    {
      "cell_type": "markdown",
      "source": [
        "**Tensor Operations**"
      ],
      "metadata": {
        "id": "V8iLF4LV8f3S"
      }
    },
    {
      "cell_type": "code",
      "source": [
        "a = torch.tensor([[1, 1],\n",
        "                 [2, 2]])\n",
        "\n",
        "b = torch.tensor([[2, 2],\n",
        "                  [3, 3]])\n",
        "\n",
        "c = torch.tensor([[1, 1, 4],\n",
        "                  [2, 2, 5]])"
      ],
      "metadata": {
        "id": "ttDZj-4e54aM"
      },
      "execution_count": null,
      "outputs": []
    },
    {
      "cell_type": "code",
      "source": [
        "print(a+b)"
      ],
      "metadata": {
        "colab": {
          "base_uri": "https://localhost:8080/"
        },
        "id": "2db23_486mib",
        "outputId": "43853b50-b3b6-4c53-821b-912298d53296"
      },
      "execution_count": null,
      "outputs": [
        {
          "output_type": "stream",
          "name": "stdout",
          "text": [
            "tensor([[3, 3],\n",
            "        [5, 5]])\n"
          ]
        }
      ]
    },
    {
      "cell_type": "code",
      "source": [
        "print(a-b)"
      ],
      "metadata": {
        "colab": {
          "base_uri": "https://localhost:8080/"
        },
        "id": "TWUUsF_pc_AT",
        "outputId": "8aa3153b-d77f-4996-d90d-188544f9727d"
      },
      "execution_count": null,
      "outputs": [
        {
          "output_type": "stream",
          "name": "stdout",
          "text": [
            "tensor([[-1, -1],\n",
            "        [-1, -1]])\n"
          ]
        }
      ]
    },
    {
      "cell_type": "code",
      "source": [
        "try:\n",
        "  print(a + c)\n",
        "except RuntimeError as e:\n",
        "  print(\"Error:\", e)"
      ],
      "metadata": {
        "colab": {
          "base_uri": "https://localhost:8080/"
        },
        "id": "TXPEq5sL68bK",
        "outputId": "02607f8c-e318-4fd1-d1cf-64770610078a"
      },
      "execution_count": null,
      "outputs": [
        {
          "output_type": "stream",
          "name": "stdout",
          "text": [
            "Error: The size of tensor a (2) must match the size of tensor b (3) at non-singleton dimension 1\n"
          ]
        }
      ]
    },
    {
      "cell_type": "code",
      "source": [
        "print(a*b)"
      ],
      "metadata": {
        "colab": {
          "base_uri": "https://localhost:8080/"
        },
        "id": "s1OIIzaf8QH6",
        "outputId": "ac325e8c-0623-4af4-9dbf-de847f5a9ec0"
      },
      "execution_count": null,
      "outputs": [
        {
          "output_type": "stream",
          "name": "stdout",
          "text": [
            "tensor([[2, 2],\n",
            "        [6, 6]])\n"
          ]
        }
      ]
    },
    {
      "cell_type": "markdown",
      "source": [
        "**Neural Network (NN) Vs. Convolutional Neural Network (CNN)**\n",
        "             \n",
        "\n",
        "\n",
        "| Feature             | Neural Network (NN)                                            | Convolutional Neural Network (CNN)                                     |\n",
        "|---------------------|-----------------------------------------------------------------|-------------------------------------------------------------------------|\n",
        "| Type                | General purpose                                                 | Subtype of NN, specialized for grid-like data (images)                  |\n",
        "| Architecture        | Fully-connected layers                                          | Convolutional layers, pooling layers, and fully-connected layers        |\n",
        "| Data Processing     | Each neuron in a layer connected to all neurons in the previous layer | Local connections between neurons, exploiting spatial relationships in data |\n",
        "| Parameter Efficiency | Less efficient, requires more parameters                       | More efficient, learns features automatically                           |\n",
        "| Strengths           | Flexible, works well for various data types                     | Excellent for image recognition, computer vision                         |\n",
        "| Applications        | Classification, regression, pattern recognition                 | Image classification, object detection, image segmentation              |\n"
      ],
      "metadata": {
        "id": "RXdvtu2sdn0-"
      }
    },
    {
      "cell_type": "markdown",
      "source": [
        "**Creating the Neural Network**"
      ],
      "metadata": {
        "id": "u6XUkkHB8md6"
      }
    },
    {
      "cell_type": "code",
      "source": [
        "# Single Layer NN\n",
        "import torch.nn as nn\n",
        "\n",
        "# Create input_tensor with three features\n",
        "input_tensor = torch.tensor([[0.3471, 0.4547, -0.2356]])\n",
        "\n",
        "# Define our first linear layer\n",
        "# linear_layer = nn.Linear(3, 2)\n",
        "linear_layer = nn.Linear(in_features=3, out_features=2)\n",
        "\n",
        "# Pass input through linear layer\n",
        "output = linear_layer(input_tensor)\n",
        "\n",
        "print(output)\n",
        "print(linear_layer.weight) # Each layer has a weight\n",
        "print(linear_layer.bias)   # and bias property"
      ],
      "metadata": {
        "colab": {
          "base_uri": "https://localhost:8080/"
        },
        "id": "PlfzZoxB8via",
        "outputId": "14e21de7-dcc4-4be0-88e3-799490edb78c"
      },
      "execution_count": null,
      "outputs": [
        {
          "output_type": "stream",
          "name": "stdout",
          "text": [
            "tensor([[0.1131, 0.2126]], grad_fn=<AddmmBackward0>)\n",
            "Parameter containing:\n",
            "tensor([[-0.2639, -0.2151,  0.3009],\n",
            "        [ 0.4829,  0.1614,  0.5067]], requires_grad=True)\n",
            "Parameter containing:\n",
            "tensor([0.3734, 0.0909], requires_grad=True)\n"
          ]
        }
      ]
    },
    {
      "cell_type": "markdown",
      "source": [
        "`output = linear_layer(input_tensor)`\n",
        "\n",
        "for input $X$, weights $W_0$ and bias $b_0$, the linear layer performs\n",
        "\n",
        "$y_0 = W_0.X + b_0$\n",
        "\n",
        "- **In PyTorch**:\n",
        "    - Weights and bias are initialized randomly\n",
        "    - They are not useful until they are tuned\n"
      ],
      "metadata": {
        "id": "Qlkn5x_d_XIQ"
      }
    },
    {
      "cell_type": "markdown",
      "source": [
        "**Our two-layer network summary**\n",
        "\n",
        "- Input dimensions: `1 × 3`\n",
        "- Linear layer arguments:\n",
        "    - in_features = `3`\n",
        "    - out_features = `2`\n",
        "- Output dimensions: `1 × 2`\n",
        "- Networks with only linear layers are called **fully connected**.\n",
        "- Each neuron in one layer is connected to\n",
        "each neuron in the next layer"
      ],
      "metadata": {
        "id": "-SohgFKEA8st"
      }
    },
    {
      "cell_type": "code",
      "source": [
        "# Stacking layer with nn.Sequential() - Multiple Layer NN\n",
        "\n",
        "import torch.nn as nn\n",
        "\n",
        "# Create input_tensor with three features\n",
        "input_tensor = torch.tensor([[0.3471, 0.4547, -0.2356]]) # Dim:1x3\n",
        "\n",
        "# Define the model with the first layer matching input features\n",
        "model = nn.Sequential(\n",
        "    nn.Linear(3, 5),\n",
        "    nn.Linear(5, 7),\n",
        "    nn.Linear(7, 5)\n",
        ")\n",
        "\n",
        "# Pass input through the model\n",
        "output_tensor = model(input_tensor)\n",
        "print(output_tensor)"
      ],
      "metadata": {
        "colab": {
          "base_uri": "https://localhost:8080/"
        },
        "id": "5Yh_6vOSagOz",
        "outputId": "3c79b54e-248f-4056-9f92-12214c53337c"
      },
      "execution_count": null,
      "outputs": [
        {
          "output_type": "stream",
          "name": "stdout",
          "text": [
            "tensor([[-0.3508,  0.1057, -0.0417, -0.0351, -0.6433]],\n",
            "       grad_fn=<AddmmBackward0>)\n"
          ]
        }
      ]
    },
    {
      "cell_type": "code",
      "source": [
        "# Stacking layer with Activation function\n",
        "import torch\n",
        "from torch import nn\n",
        "\n",
        "# Create input_tensor with three features\n",
        "input_tensor = torch.tensor([[0.3471, 0.4547, -0.2356]]) # Dim:1x3\n",
        "\n",
        "# Define the model using nn.Sequential\n",
        "model = nn.Sequential(\n",
        "    nn.Linear(3, 5),    # First linear layer with 3 input features and 5 hidden units\n",
        "    nn.ReLU(),          # Activation function (ReLU in this case)\n",
        "    nn.Linear(5, 7),    # Second linear layer with 5 input features (from previous layer) and 7 hidden units\n",
        "    nn.ReLU(),          # Activation function (ReLU again)\n",
        "    nn.Linear(7, 2)     # Output layer with 7 input features (from previous layer) and 2 output units\n",
        ")\n",
        "\n",
        "# Print the model architecture\n",
        "print(model)\n",
        "\n",
        "# Pass input through the model\n",
        "output_tensor = model(input_tensor)\n",
        "print(output_tensor)"
      ],
      "metadata": {
        "colab": {
          "base_uri": "https://localhost:8080/"
        },
        "id": "ASh6dBTsIkRQ",
        "outputId": "1f7e1e69-dde5-4521-b718-149cf0a5079b"
      },
      "execution_count": null,
      "outputs": [
        {
          "output_type": "stream",
          "name": "stdout",
          "text": [
            "Sequential(\n",
            "  (0): Linear(in_features=3, out_features=5, bias=True)\n",
            "  (1): ReLU()\n",
            "  (2): Linear(in_features=5, out_features=7, bias=True)\n",
            "  (3): ReLU()\n",
            "  (4): Linear(in_features=7, out_features=2, bias=True)\n",
            ")\n",
            "tensor([[ 0.4343, -0.1482]], grad_fn=<AddmmBackward0>)\n"
          ]
        }
      ]
    },
    {
      "cell_type": "markdown",
      "source": [
        "**Discovering Activation functions**\n",
        "\n",
        "- Non-linearity allows neural networks to learn and represent complex patterns and relationships in data.\n",
        "\n",
        "- Activation functions introduce non-linearity by transforming the input signal into an output signal.\n",
        "\n",
        "- Without activation functions, neural networks would only be able to model linear relationships, limiting their capacity to learn and generalize.\n",
        "\n",
        "- Activation functions introduce important properties like boundedness and differentiability, which aid in optimization during training.\n",
        "\n",
        "- They enable neural networks to approximate any arbitrary function, making them  powerful tools for various tasks such as classification, regression, and reinforcement learning.\n",
        "\n",
        "- Common activation functions include `sigmoid`, `tanh`, `ReLU` (Rectified Linear Unit), and variants like Leaky `ReLU` and `ELU` (Exponential Linear Unit).\n",
        "\n",
        "These functions introduce complexity and flexibility, enabling neural networks to capture intricate data patterns and improve model performance."
      ],
      "metadata": {
        "id": "lwMx_IIYbBQ8"
      }
    },
    {
      "cell_type": "markdown",
      "source": [
        "```python\n",
        "# Sigmoid\n",
        "\n",
        "input_tensor = torch.tensor([[0.8]])\n",
        "\n",
        "# Create a sigmoid function and apply it on input_tensor\n",
        "sigmoid = nn.Sigmoid()\n",
        "probability = sigmoid(input_tensor)\n",
        "print(probability)\n",
        "```\n",
        "\n",
        "\n",
        "```python\n",
        "# Softmax\n",
        "\n",
        "input_tensor = torch.tensor([[1.0, -6.0, 2.5, -0.3, 1.2, 0.8]])\n",
        "\n",
        "# Create a softmax function and apply it on input_tensor\n",
        "softmax = nn.Softmax(dim=-1)\n",
        "probabilities = softmax(input_tensor)\n",
        "print(probabilities)\n",
        "```"
      ],
      "metadata": {
        "id": "UEIAMbYi2sbK"
      }
    },
    {
      "cell_type": "markdown",
      "source": [
        "**Sigmoid**"
      ],
      "metadata": {
        "id": "BwtdhkZgrNfH"
      }
    },
    {
      "cell_type": "code",
      "source": [
        "# Neural Network\n",
        "\n",
        "import torch\n",
        "import torch.nn as nn\n",
        "\n",
        "# Define the NN model\n",
        "model = nn.Sequential(\n",
        "    nn.Linear(6, 4),  # First linear layer\n",
        "    nn.Linear(4, 1),  # Second linear layer\n",
        "    nn.Sigmoid()      # Sigmoid activation function\n",
        ")\n",
        "\n",
        "# Example usage\n",
        "input_tensor = torch.tensor([[6.0, 0.0, 0.0, 0.0, 0.0, 0.0]])\n",
        "output = model(input_tensor)\n",
        "print(output)"
      ],
      "metadata": {
        "colab": {
          "base_uri": "https://localhost:8080/"
        },
        "id": "k8lnj1D4ol9R",
        "outputId": "d4f74030-03e8-4056-f447-0b8efc97dc56"
      },
      "execution_count": null,
      "outputs": [
        {
          "output_type": "stream",
          "name": "stdout",
          "text": [
            "tensor([[0.5914]], grad_fn=<SigmoidBackward0>)\n"
          ]
        }
      ]
    },
    {
      "cell_type": "code",
      "source": [
        "# Convolutional Neural Network\n",
        "\n",
        "import torch\n",
        "import torch.nn as nn\n",
        "\n",
        "# Define the CNN model\n",
        "model = nn.Sequential(\n",
        "    nn.Conv2d(in_channels=3, out_channels=16, kernel_size=3, stride=1, padding=1),\n",
        "    nn.ReLU(),\n",
        "    nn.MaxPool2d(kernel_size=2, stride=2),\n",
        "    nn.Conv2d(in_channels=16, out_channels=32, kernel_size=3, stride=1, padding=1),\n",
        "    nn.ReLU(),\n",
        "    nn.MaxPool2d(kernel_size=2, stride=2),\n",
        "    nn.Flatten(),\n",
        "    nn.Linear(32 * 56 * 56, 128),  # 32 channels, 56x56 image size after pooling\n",
        "    nn.ReLU(),\n",
        "    nn.Linear(128, 1),             # Output layer for binary classification\n",
        "    nn.Sigmoid()                   # Sigmoid activation function\n",
        ")\n",
        "\n",
        "# Example usage\n",
        "input_tensor = torch.randn(1, 3, 224, 224)  # Example input tensor with shape (batch_size, channels, height, width)\n",
        "output = model(input_tensor)\n",
        "print(output)"
      ],
      "metadata": {
        "colab": {
          "base_uri": "https://localhost:8080/"
        },
        "id": "3z6vdZGwp6Pj",
        "outputId": "1f6b172c-d974-4e42-8b91-655996dcc785"
      },
      "execution_count": null,
      "outputs": [
        {
          "output_type": "stream",
          "name": "stdout",
          "text": [
            "tensor([[0.5102]], grad_fn=<SigmoidBackward0>)\n"
          ]
        }
      ]
    },
    {
      "cell_type": "markdown",
      "source": [
        "- A neural network with a `single linear layer` followed by a `sigmoid` activation is similar to a **logistic regression model**.\n",
        "\n",
        "- The `input` dimension of a linear layer must be **equal** to the `output` dimension of the previous layer."
      ],
      "metadata": {
        "id": "exnJNHrY13qQ"
      }
    },
    {
      "cell_type": "markdown",
      "source": [
        "**Softmax**"
      ],
      "metadata": {
        "id": "UyiZrAAOqcNq"
      }
    },
    {
      "cell_type": "code",
      "source": [
        "import torch\n",
        "import torch.nn as nn\n",
        "\n",
        "# Define the NN model\n",
        "model = nn.Sequential(\n",
        "    nn.Linear(3, 4),   # First linear layer\n",
        "    nn.Linear(4, 3),   # Second linear layer, output size 3 for softmax\n",
        "    nn.Softmax(dim=-1) # -1 indicates softmax is applied to the input tensor's last dimension\n",
        ")                      # nn.Sigmoid() can be used as last step in nn.Sequential()\n",
        "\n",
        "# Example usage\n",
        "input_tensor = torch.tensor([[4.3, 6.1, 2.3]])\n",
        "output = model(input_tensor)\n",
        "print(output)"
      ],
      "metadata": {
        "colab": {
          "base_uri": "https://localhost:8080/"
        },
        "id": "MT69A1TaqgrB",
        "outputId": "a5486a8c-cb10-4cfb-995d-ddc21983c8c5"
      },
      "execution_count": null,
      "outputs": [
        {
          "output_type": "stream",
          "name": "stdout",
          "text": [
            "tensor([[0.2073, 0.1959, 0.5968]], grad_fn=<SoftmaxBackward0>)\n"
          ]
        }
      ]
    },
    {
      "cell_type": "markdown",
      "source": [
        "## **2️⃣Training Our First Neural Network with PyTorch**"
      ],
      "metadata": {
        "id": "ATihhh_TzvJL"
      }
    },
    {
      "cell_type": "code",
      "source": [],
      "metadata": {
        "id": "rg6MZxiLswqG"
      },
      "execution_count": null,
      "outputs": []
    },
    {
      "cell_type": "markdown",
      "source": [
        "## **3️⃣Neural Network Architecture and Hyperparameters**"
      ],
      "metadata": {
        "id": "OyhwAx34z1JD"
      }
    },
    {
      "cell_type": "code",
      "source": [],
      "metadata": {
        "id": "owNMnh7Msxr2"
      },
      "execution_count": null,
      "outputs": []
    },
    {
      "cell_type": "markdown",
      "source": [
        "## **4️⃣Evaluating and Improving Models**"
      ],
      "metadata": {
        "id": "ZdqJvF5Hz5ri"
      }
    },
    {
      "cell_type": "code",
      "source": [],
      "metadata": {
        "id": "V_7oEB_tAfCz"
      },
      "execution_count": null,
      "outputs": []
    },
    {
      "cell_type": "code",
      "source": [],
      "metadata": {
        "id": "7haicxNKsyMo"
      },
      "execution_count": null,
      "outputs": []
    },
    {
      "cell_type": "markdown",
      "source": [
        "#### $\\color{skyblue}{\\textbf{Connect with me:}}$\n",
        "\n",
        "\n",
        "[<img align=\"left\" src=\"https://cdn4.iconfinder.com/data/icons/social-media-icons-the-circle-set/48/twitter_circle-512.png\" width=\"32px\"/>][twitter]\n",
        "[<img align=\"left\" src=\"https://cdn-icons-png.flaticon.com/512/145/145807.png\" width=\"32px\"/>][linkedin]\n",
        "[<img align=\"left\" src=\"https://cdn2.iconfinder.com/data/icons/whcompare-blue-green-web-hosting-1/425/cdn-512.png\" width=\"32px\"/>][Portfolio]\n",
        "\n",
        "[twitter]: https://twitter.com/F4izy\n",
        "[linkedin]: https://www.linkedin.com/in/mohd-faizy/\n",
        "[Portfolio]: https://mohdfaizy.com/\n"
      ],
      "metadata": {
        "id": "2ZuprT2Czqry"
      }
    }
  ]
}